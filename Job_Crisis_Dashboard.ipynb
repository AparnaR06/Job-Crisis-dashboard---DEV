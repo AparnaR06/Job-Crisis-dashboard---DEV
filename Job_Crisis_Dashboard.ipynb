{
  "nbformat": 4,
  "nbformat_minor": 0,
  "metadata": {
    "colab": {
      "provenance": [],
      "authorship_tag": "ABX9TyOyHeLn6cDjp3iwDdfwUOVL",
      "include_colab_link": true
    },
    "kernelspec": {
      "name": "python3",
      "display_name": "Python 3"
    },
    "language_info": {
      "name": "python"
    }
  },
  "cells": [
    {
      "cell_type": "markdown",
      "metadata": {
        "id": "view-in-github",
        "colab_type": "text"
      },
      "source": [
        "<a href=\"https://colab.research.google.com/github/AparnaR06/Job-Crisis-dashboard---DEV/blob/main/Job_Crisis_Dashboard.ipynb\" target=\"_parent\"><img src=\"https://colab.research.google.com/assets/colab-badge.svg\" alt=\"Open In Colab\"/></a>"
      ]
    },
    {
      "cell_type": "code",
      "execution_count": 1,
      "metadata": {
        "colab": {
          "base_uri": "https://localhost:8080/"
        },
        "id": "uDDVjfLMh0A7",
        "outputId": "adbc213d-c45d-4549-a10a-0188b1c1508c"
      },
      "outputs": [
        {
          "output_type": "stream",
          "name": "stdout",
          "text": [
            "\u001b[2K     \u001b[90m━━━━━━━━━━━━━━━━━━━━━━━━━━━━━━━━━━━━━━━━\u001b[0m \u001b[32m44.3/44.3 kB\u001b[0m \u001b[31m1.9 MB/s\u001b[0m eta \u001b[36m0:00:00\u001b[0m\n",
            "\u001b[2K   \u001b[90m━━━━━━━━━━━━━━━━━━━━━━━━━━━━━━━━━━━━━━━━\u001b[0m \u001b[32m9.9/9.9 MB\u001b[0m \u001b[31m52.1 MB/s\u001b[0m eta \u001b[36m0:00:00\u001b[0m\n",
            "\u001b[2K   \u001b[90m━━━━━━━━━━━━━━━━━━━━━━━━━━━━━━━━━━━━━━━━\u001b[0m \u001b[32m6.9/6.9 MB\u001b[0m \u001b[31m90.2 MB/s\u001b[0m eta \u001b[36m0:00:00\u001b[0m\n",
            "\u001b[2K   \u001b[90m━━━━━━━━━━━━━━━━━━━━━━━━━━━━━━━━━━━━━━━━\u001b[0m \u001b[32m79.1/79.1 kB\u001b[0m \u001b[31m6.4 MB/s\u001b[0m eta \u001b[36m0:00:00\u001b[0m\n",
            "Authtoken saved to configuration file: /root/.config/ngrok/ngrok.yml\n"
          ]
        }
      ],
      "source": [
        "# Install required libraries\n",
        "!pip install streamlit pyngrok --quiet\n",
        "\n",
        "# Set ngrok authtoken\n",
        "!ngrok config add-authtoken 30lSM0NPIacLfbhzn5V8hL844YE_3UgTaMPGYRE9W63KfMtf\n"
      ]
    },
    {
      "cell_type": "code",
      "source": [
        "%%writefile app.py\n",
        "import streamlit as st\n",
        "import pandas as pd\n",
        "import numpy as np\n",
        "\n",
        "st.title(\"📊 Employment Trend Dashboard\")\n",
        "\n",
        "st.sidebar.header(\"📁 Filter Options\")\n",
        "year = st.sidebar.slider(\"Select Year\", 2010, 2025, 2020)\n",
        "category = st.sidebar.selectbox(\"Select Sector\", ['IT', 'Healthcare', 'Education', 'Agriculture'])\n",
        "\n",
        "# Dummy data\n",
        "np.random.seed(year)\n",
        "data = pd.DataFrame({\n",
        "    'Job Role': ['Analyst', 'Manager', 'Engineer', 'Technician', 'Consultant'],\n",
        "    'Demand': np.random.randint(100, 1000, 5)\n",
        "})\n",
        "\n",
        "st.subheader(f\"Employment Data for {category} - {year}\")\n",
        "st.bar_chart(data.set_index('Job Role'))\n"
      ],
      "metadata": {
        "colab": {
          "base_uri": "https://localhost:8080/"
        },
        "id": "pTkzlNipiVoU",
        "outputId": "253295c6-6d52-40ae-cd63-b33bf0fe96d9"
      },
      "execution_count": 2,
      "outputs": [
        {
          "output_type": "stream",
          "name": "stdout",
          "text": [
            "Writing app.py\n"
          ]
        }
      ]
    },
    {
      "cell_type": "code",
      "source": [
        "from pyngrok import ngrok\n",
        "import threading\n",
        "import time\n",
        "import os\n",
        "\n",
        "# Kill any previously running tunnels\n",
        "ngrok.kill()\n",
        "\n",
        "# Start Streamlit app\n",
        "def run_app():\n",
        "    os.system('streamlit run app.py')\n",
        "\n",
        "# Run app in background thread\n",
        "thread = threading.Thread(target=run_app)\n",
        "thread.start()\n",
        "\n",
        "# Wait for server to start\n",
        "time.sleep(5)\n",
        "\n",
        "# Correct ngrok usage\n",
        "public_url = ngrok.connect(8501, \"http\")\n",
        "print(f\"🚀 Streamlit app is live at: {public_url}\")\n"
      ],
      "metadata": {
        "colab": {
          "base_uri": "https://localhost:8080/"
        },
        "id": "LuFH-qfDiZsw",
        "outputId": "430fe85c-75dc-4b70-8676-406bba49d1bf"
      },
      "execution_count": 4,
      "outputs": [
        {
          "output_type": "stream",
          "name": "stdout",
          "text": [
            "🚀 Streamlit app is live at: NgrokTunnel: \"https://ce56aaf498a3.ngrok-free.app\" -> \"http://localhost:8501\"\n"
          ]
        }
      ]
    },
    {
      "cell_type": "code",
      "source": [],
      "metadata": {
        "id": "C1DdxFYBio6W"
      },
      "execution_count": null,
      "outputs": []
    }
  ]
}