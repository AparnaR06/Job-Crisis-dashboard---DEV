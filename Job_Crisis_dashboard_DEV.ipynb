{
  "nbformat": 4,
  "nbformat_minor": 0,
  "metadata": {
    "colab": {
      "provenance": [],
      "authorship_tag": "ABX9TyM4SR8jA6Xgw2ILY/jfCPL1",
      "include_colab_link": true
    },
    "kernelspec": {
      "name": "python3",
      "display_name": "Python 3"
    },
    "language_info": {
      "name": "python"
    }
  },
  "cells": [
    {
      "cell_type": "markdown",
      "metadata": {
        "id": "view-in-github",
        "colab_type": "text"
      },
      "source": [
        "<a href=\"https://colab.research.google.com/github/AparnaR06/Job-Crisis-dashboard---DEV/blob/main/Job_Crisis_dashboard_DEV.ipynb\" target=\"_parent\"><img src=\"https://colab.research.google.com/assets/colab-badge.svg\" alt=\"Open In Colab\"/></a>"
      ]
    },
    {
      "cell_type": "code",
      "execution_count": 4,
      "metadata": {
        "colab": {
          "base_uri": "https://localhost:8080/"
        },
        "id": "YyZ3NP1VsV0p",
        "outputId": "c60721e0-d7b1-4b70-fe6d-8009b6861e58"
      },
      "outputs": [
        {
          "output_type": "stream",
          "name": "stdout",
          "text": [
            "\u001b[2K     \u001b[90m━━━━━━━━━━━━━━━━━━━━━━━━━━━━━━━━━━━━━━━━\u001b[0m \u001b[32m44.3/44.3 kB\u001b[0m \u001b[31m2.7 MB/s\u001b[0m eta \u001b[36m0:00:00\u001b[0m\n",
            "\u001b[2K   \u001b[90m━━━━━━━━━━━━━━━━━━━━━━━━━━━━━━━━━━━━━━━━\u001b[0m \u001b[32m9.9/9.9 MB\u001b[0m \u001b[31m59.6 MB/s\u001b[0m eta \u001b[36m0:00:00\u001b[0m\n",
            "\u001b[2K   \u001b[90m━━━━━━━━━━━━━━━━━━━━━━━━━━━━━━━━━━━━━━━━\u001b[0m \u001b[32m6.9/6.9 MB\u001b[0m \u001b[31m82.7 MB/s\u001b[0m eta \u001b[36m0:00:00\u001b[0m\n",
            "\u001b[2K   \u001b[90m━━━━━━━━━━━━━━━━━━━━━━━━━━━━━━━━━━━━━━━━\u001b[0m \u001b[32m79.1/79.1 kB\u001b[0m \u001b[31m5.2 MB/s\u001b[0m eta \u001b[36m0:00:00\u001b[0m\n",
            "Authtoken saved to configuration file: /root/.config/ngrok/ngrok.yml\n"
          ]
        }
      ],
      "source": [
        "# Install required libraries\n",
        "!pip install streamlit pyngrok --quiet\n",
        "\n",
        "# Set ngrok authtoken\n",
        "!ngrok config add-authtoken 30lSM0NPIacLfbhzn5V8hL844YE_3UgTaMPGYRE9W63KfMtf"
      ]
    },
    {
      "cell_type": "code",
      "source": [
        "%%writefile app.py\n",
        "import streamlit as st\n",
        "import pandas as pd\n",
        "import matplotlib.pyplot as plt\n",
        "import seaborn as sns\n",
        "import numpy as np\n",
        "\n",
        "# Custom CSS\n",
        "st.markdown(\"\"\"\n",
        "    <style>\n",
        "        .main {\n",
        "            background-color: #0f1117;\n",
        "            color: white;\n",
        "        }\n",
        "        .reportview-container .markdown-text-container {\n",
        "            font-family: 'Segoe UI', sans-serif;\n",
        "        }\n",
        "        .stSlider > div > div > div {\n",
        "            background-color: #ff4b4b;\n",
        "        }\n",
        "    </style>\n",
        "\"\"\", unsafe_allow_html=True)\n",
        "\n",
        "st.set_page_config(page_title=\"Employment Dashboard\", layout=\"wide\")\n",
        "st.title(\"📊 Employment Trend Dashboard\")\n",
        "st.markdown(\"Explore the employment distribution across various sectors 📈\")\n",
        "\n",
        "# Sidebar\n",
        "with st.sidebar:\n",
        "    st.markdown(\"### 📁 Filter Options\")\n",
        "    year = st.slider(\"📅 Select Year\", 2010, 2025, 2018)\n",
        "    sector = st.selectbox(\"🏭 Select Sector\", [\"Education\", \"IT\", \"Healthcare\", \"Manufacturing\"])\n",
        "    show_line = st.checkbox(\"📈 Show Line Chart\")\n",
        "\n",
        "# Generate dynamic data based on year + sector\n",
        "roles = [\"Analyst\", \"Consultant\", \"Engineer\", \"Manager\", \"Technician\"]\n",
        "np.random.seed(year + hash(sector) % 1000)\n",
        "data = pd.DataFrame({\n",
        "    \"Role\": roles,\n",
        "    \"Employment\": np.random.randint(200, 1000, size=len(roles))\n",
        "})\n",
        "\n",
        "# Metrics\n",
        "st.subheader(f\"📌 Employment Metrics - {sector} ({year})\")\n",
        "cols = st.columns(len(roles))\n",
        "for i, role in enumerate(roles):\n",
        "    with cols[i]:\n",
        "        st.metric(label=role, value=f\"{data['Employment'][i]}\", delta=f\"{np.random.randint(-100,100)}\")\n",
        "\n",
        "# Chart\n",
        "st.subheader(f\"📊 Employment Data for {sector} - {year}\")\n",
        "fig, ax = plt.subplots()\n",
        "sns.set_style(\"darkgrid\")\n",
        "\n",
        "if show_line:\n",
        "    sns.lineplot(data=data, x=\"Role\", y=\"Employment\", marker=\"o\", linewidth=2.5, color=\"cyan\", ax=ax)\n",
        "else:\n",
        "    sns.barplot(data=data, x=\"Role\", y=\"Employment\", palette=\"cool\", ax=ax)\n",
        "\n",
        "st.pyplot(fig)\n",
        "\n",
        "# Download button\n",
        "csv = data.to_csv(index=False).encode()\n",
        "st.download_button(\"📥 Download Data as CSV\", csv, \"employment_data.csv\", \"text/csv\", key='download-csv')\n"
      ],
      "metadata": {
        "colab": {
          "base_uri": "https://localhost:8080/"
        },
        "id": "f6ZZ4giSshSQ",
        "outputId": "a3ca6240-2334-4235-d54a-ba4b5d7af736"
      },
      "execution_count": 5,
      "outputs": [
        {
          "output_type": "stream",
          "name": "stdout",
          "text": [
            "Writing app.py\n"
          ]
        }
      ]
    },
    {
      "cell_type": "code",
      "source": [
        "from pyngrok import ngrok\n",
        "import threading\n",
        "import os\n",
        "import time\n",
        "\n",
        "# Kill previous tunnels (if any)\n",
        "ngrok.kill()\n",
        "\n",
        "# Start the Streamlit app in the background\n",
        "def run():\n",
        "    os.system(\"streamlit run app.py\")\n",
        "\n",
        "thread = threading.Thread(target=run)\n",
        "thread.start()\n",
        "\n",
        "# Give Streamlit a few seconds to start\n",
        "time.sleep(5)\n",
        "\n",
        "# Connect ngrok\n",
        "public_url = ngrok.connect(8501)\n",
        "print(f\"✅ Streamlit app is live at: {public_url}\")\n"
      ],
      "metadata": {
        "colab": {
          "base_uri": "https://localhost:8080/"
        },
        "id": "iH3Bnzh0smwc",
        "outputId": "212a3d3c-5881-4158-d143-982ab941e835"
      },
      "execution_count": 6,
      "outputs": [
        {
          "output_type": "stream",
          "name": "stdout",
          "text": [
            "✅ Streamlit app is live at: NgrokTunnel: \"https://468fac2107c2.ngrok-free.app\" -> \"http://localhost:8501\"\n"
          ]
        }
      ]
    }
  ]
}